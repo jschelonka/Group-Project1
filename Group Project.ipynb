{
 "cells": [
  {
   "cell_type": "code",
   "execution_count": 70,
   "id": "4efaa52d",
   "metadata": {},
   "outputs": [
    {
     "name": "stdout",
     "output_type": "stream",
     "text": [
      "Player1 enter rock, paper, or scissor rock\n",
      "Player1 picked rock\n",
      "Player2 picked scissor\n",
      "Player1 wins!\n"
     ]
    }
   ],
   "source": [
    "user1 = str(input(\"Player1 enter rock, paper, or scissor \"))\n",
    "\n",
    "u1 = user1.lower() # turns the input into lowercase\n",
    "\n",
    "print(\"Player1 picked\", u1)\n",
    "\n",
    "import random\n",
    "user2 = random.randrange(1,4) # generates a random number from 1-3, 1 = rock, 2 = paper, and 3 = scissor\n",
    "\n",
    "if user2 == 1:\n",
    "    user2 = 'rock'\n",
    "elif user2 == 2:\n",
    "    user2 = 'paper'\n",
    "else:\n",
    "    user2 = 'scissor'\n",
    "print(\"Player2 picked\", user2)\n",
    "\n",
    "if u1 == 'rock' or u1 == 'paper' or u1 == 'scissor': # checks user input for rock, paper, or scissor\n",
    "\n",
    "    if u1 == 'rock':\n",
    "        if u2 == 'paper':\n",
    "            print(\"Player2 wins!\")\n",
    "        elif u2 == 'scissor':\n",
    "            print(\"Player1 wins!\")\n",
    "        elif u2 == 'rock':\n",
    "            print(\"Tie!\")\n",
    "    if u1 == 'paper':\n",
    "        if u2 == 'paper':\n",
    "            print(\"Tie!\")\n",
    "        elif u2 == 'scissor':\n",
    "            print(\"Player2 wins!\")\n",
    "        elif u2 == 'rock':\n",
    "            print(\"Player1 wins!\")\n",
    "    if u1 == 'scissor':\n",
    "        if u2 == 'paper':\n",
    "            print(\"Player1 wins!\")\n",
    "        elif u2 == 'scissor':\n",
    "            print(\"Tie!\")\n",
    "        elif u2 == 'rock':\n",
    "            print(\"Player2 wins!\")\n",
    "else: \n",
    "    print(\"Try again!\") # if user input != (rock, paper, or scissor), try again"
   ]
  },
  {
   "cell_type": "code",
   "execution_count": null,
   "id": "f27c3e11",
   "metadata": {},
   "outputs": [],
   "source": []
  },
  {
   "cell_type": "code",
   "execution_count": null,
   "id": "0ba83dcd",
   "metadata": {},
   "outputs": [],
   "source": []
  },
  {
   "cell_type": "code",
   "execution_count": null,
   "id": "b1edb72f",
   "metadata": {},
   "outputs": [],
   "source": []
  },
  {
   "cell_type": "code",
   "execution_count": null,
   "id": "eaedcc61",
   "metadata": {},
   "outputs": [],
   "source": []
  }
 ],
 "metadata": {
  "kernelspec": {
   "display_name": "Python 3",
   "language": "python",
   "name": "python3"
  },
  "language_info": {
   "codemirror_mode": {
    "name": "ipython",
    "version": 3
   },
   "file_extension": ".py",
   "mimetype": "text/x-python",
   "name": "python",
   "nbconvert_exporter": "python",
   "pygments_lexer": "ipython3",
   "version": "3.8.8"
  }
 },
 "nbformat": 4,
 "nbformat_minor": 5
}
